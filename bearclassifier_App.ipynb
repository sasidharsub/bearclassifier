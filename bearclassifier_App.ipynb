{
 "cells": [
  {
   "cell_type": "markdown",
   "metadata": {
    "id": "Eg8KOGN7SqHi"
   },
   "source": [
    "**THE AMAZING BEAR PREDICTOR**"
   ]
  },
  {
   "cell_type": "markdown",
   "metadata": {
    "id": "C0d06m5eSU-j"
   },
   "source": [
    "You can upload a photo of a bear and the app predicts whether the bear is grizzly or teddy or black. "
   ]
  },
  {
   "cell_type": "code",
   "execution_count": 3,
   "metadata": {
    "id": "xWNjhtlYSHHA"
   },
   "outputs": [],
   "source": [
    "from fastai.vision.all import *\n",
    "from fastai.vision.widgets import *"
   ]
  },
  {
   "cell_type": "code",
   "execution_count": 8,
   "metadata": {},
   "outputs": [],
   "source": [
    "import pathlib\n",
    "temp = pathlib.PosixPath\n",
    "pathlib.PosixPath = pathlib.WindowsPath"
   ]
  },
  {
   "cell_type": "code",
   "execution_count": 10,
   "metadata": {},
   "outputs": [
    {
     "data": {
      "text/plain": [
       "<fastai.learner.Learner at 0x212413bedf0>"
      ]
     },
     "execution_count": 10,
     "metadata": {},
     "output_type": "execute_result"
    }
   ],
   "source": [
    "bearmodel = load_learner('bearclassifier.pkl')\n",
    "bearmodel"
   ]
  },
  {
   "cell_type": "code",
   "execution_count": 14,
   "metadata": {
    "colab": {
     "base_uri": "https://localhost:8080/",
     "height": 252,
     "referenced_widgets": [
      "d3397d1ace7647788a54fd67e1bf2522",
      "f72ce1b902aa4e7dbf0e63e4a4586249",
      "90c4ee29aa8c4f558af76f0631118b5d",
      "54ff584617a24605b50ab8a929b41602",
      "0258cb4840e343419ef61f52a196bee3",
      "f02f07653d0c4cc6864feea518f16f9e",
      "7b453b55995d41e69da58a03a05686dd",
      "164ff5ac7e104355bfa12177edc95205",
      "722041d2ffee4cc399d3b05b892ae98b",
      "60d01a5626764450b90591a515b8d5fc",
      "dc9a15205b5043dba391eac64c09ea6c",
      "12188c29931642348db9625ab02f377a",
      "a4bcf4662ded41f08ec90c003d89410f",
      "254891b34e7a4ab6a3529fc00cd5afc6",
      "d4ca0d4e49f64c0893b72b4fc6dc6089",
      "1b59011ef9e04e0380050240c031d6ca"
     ]
    },
    "id": "gZkyMS4kTsV-",
    "outputId": "e09e0b5b-8245-4cb3-8619-19a3ed25bdf5"
   },
   "outputs": [
    {
     "data": {
      "application/vnd.jupyter.widget-view+json": {
       "model_id": "a58d1606c89d4d519b2434f102345280",
       "version_major": 2,
       "version_minor": 0
      },
      "text/plain": [
       "VBox(children=(Label(value='Upload a bear photo to classify'), FileUpload(value={}, description='Upload'), But…"
      ]
     },
     "metadata": {},
     "output_type": "display_data"
    }
   ],
   "source": [
    "upload_button = widgets.FileUpload()\n",
    "out_pl = widgets.Output()\n",
    "label_pred = widgets.Label()\n",
    "run_button = widgets.Button(description = 'Classify')\n",
    "def on_click_classify(run):\n",
    "  img = PILImage.create(upload_button.data[0])\n",
    "  out_pl.clear_output\n",
    "  with out_pl:\n",
    "    display(img.to_thumb(190,190))\n",
    "  pred, pred_idx, probs = bearmodel.predict(img)\n",
    "  label_pred.value = f'Bear Type: {pred} Probability: {probs[pred_idx]:.5f}'\n",
    "run_button.on_click(on_click_classify)\n",
    "VBox([widgets.Label('Upload a bear photo to classify'), \n",
    "      upload_button, \n",
    "      run_button, \n",
    "      out_pl,\n",
    "      label_pred])"
   ]
  },
  {
   "cell_type": "code",
   "execution_count": 13,
   "metadata": {
    "colab": {
     "base_uri": "https://localhost:8080/",
     "height": 1000
    },
    "id": "-AWGhLTDVcod",
    "outputId": "f8560a8b-1f92-4014-ef65-9affb6992752"
   },
   "outputs": [
    {
     "name": "stdout",
     "output_type": "stream",
     "text": [
      "Collecting voila\n",
      "  Downloading voila-0.4.0-py3-none-any.whl (5.5 MB)\n",
      "Requirement already satisfied: jupyterlab-server<3,>=2.3.0 in c:\\users\\sange\\anaconda3\\lib\\site-packages (from voila) (2.10.3)\n",
      "Requirement already satisfied: nbclient<0.8,>=0.4.0 in c:\\users\\sange\\anaconda3\\lib\\site-packages (from voila) (0.5.13)\n",
      "Collecting websockets>=9.0\n",
      "  Downloading websockets-10.4-cp39-cp39-win_amd64.whl (101 kB)\n",
      "Requirement already satisfied: traitlets<6,>=5.0.3 in c:\\users\\sange\\anaconda3\\lib\\site-packages (from voila) (5.1.1)\n",
      "Requirement already satisfied: jupyter-client<=7.4.1,>=6.1.3 in c:\\users\\sange\\anaconda3\\lib\\site-packages (from voila) (6.1.12)\n",
      "Collecting nbconvert<8,>=6.4.5\n",
      "  Downloading nbconvert-7.2.3-py3-none-any.whl (273 kB)\n",
      "Collecting jupyter-core>=4.11.0\n",
      "  Downloading jupyter_core-4.11.2-py3-none-any.whl (88 kB)\n",
      "Collecting jupyter-server<2.0.0,>=1.18\n",
      "  Downloading jupyter_server-1.21.0-py3-none-any.whl (346 kB)\n",
      "Requirement already satisfied: tornado>=4.1 in c:\\users\\sange\\anaconda3\\lib\\site-packages (from jupyter-client<=7.4.1,>=6.1.3->voila) (6.1)\n",
      "Requirement already satisfied: python-dateutil>=2.1 in c:\\users\\sange\\anaconda3\\lib\\site-packages (from jupyter-client<=7.4.1,>=6.1.3->voila) (2.8.2)\n",
      "Requirement already satisfied: pyzmq>=13 in c:\\users\\sange\\anaconda3\\lib\\site-packages (from jupyter-client<=7.4.1,>=6.1.3->voila) (22.3.0)"
     ]
    },
    {
     "name": "stderr",
     "output_type": "stream",
     "text": [
      "ERROR: Could not install packages due to an OSError: [WinError 5] Access is denied: 'C:\\\\Users\\\\sange\\\\AppData\\\\Local\\\\Temp\\\\pip-uninstall-y2ytqv8f\\\\jupyter.exe'\n",
      "Consider using the `--user` option or check the permissions.\n",
      "\n"
     ]
    },
    {
     "name": "stdout",
     "output_type": "stream",
     "text": [
      "\n",
      "Requirement already satisfied: pywin32>=1.0 in c:\\users\\sange\\anaconda3\\lib\\site-packages (from jupyter-core>=4.11.0->voila) (302)\n",
      "Requirement already satisfied: anyio<4,>=3.1.0 in c:\\users\\sange\\anaconda3\\lib\\site-packages (from jupyter-server<2.0.0,>=1.18->voila) (3.5.0)\n",
      "Requirement already satisfied: argon2-cffi in c:\\users\\sange\\anaconda3\\lib\\site-packages (from jupyter-server<2.0.0,>=1.18->voila) (21.3.0)\n",
      "Requirement already satisfied: prometheus-client in c:\\users\\sange\\anaconda3\\lib\\site-packages (from jupyter-server<2.0.0,>=1.18->voila) (0.13.1)\n",
      "Requirement already satisfied: websocket-client in c:\\users\\sange\\anaconda3\\lib\\site-packages (from jupyter-server<2.0.0,>=1.18->voila) (0.58.0)\n",
      "Requirement already satisfied: terminado>=0.8.3 in c:\\users\\sange\\anaconda3\\lib\\site-packages (from jupyter-server<2.0.0,>=1.18->voila) (0.13.1)\n",
      "Requirement already satisfied: Send2Trash in c:\\users\\sange\\anaconda3\\lib\\site-packages (from jupyter-server<2.0.0,>=1.18->voila) (1.8.0)\n",
      "Requirement already satisfied: jinja2 in c:\\users\\sange\\anaconda3\\lib\\site-packages (from jupyter-server<2.0.0,>=1.18->voila) (2.11.3)\n",
      "Requirement already satisfied: nbformat>=5.2.0 in c:\\users\\sange\\anaconda3\\lib\\site-packages (from jupyter-server<2.0.0,>=1.18->voila) (5.3.0)\n",
      "Requirement already satisfied: packaging in c:\\users\\sange\\anaconda3\\lib\\site-packages (from jupyter-server<2.0.0,>=1.18->voila) (21.3)\n",
      "Requirement already satisfied: pywinpty in c:\\users\\sange\\anaconda3\\lib\\site-packages (from jupyter-server<2.0.0,>=1.18->voila) (2.0.2)\n",
      "Requirement already satisfied: idna>=2.8 in c:\\users\\sange\\anaconda3\\lib\\site-packages (from anyio<4,>=3.1.0->jupyter-server<2.0.0,>=1.18->voila) (3.3)\n",
      "Requirement already satisfied: sniffio>=1.1 in c:\\users\\sange\\anaconda3\\lib\\site-packages (from anyio<4,>=3.1.0->jupyter-server<2.0.0,>=1.18->voila) (1.2.0)\n",
      "Requirement already satisfied: entrypoints>=0.2.2 in c:\\users\\sange\\anaconda3\\lib\\site-packages (from jupyterlab-server<3,>=2.3.0->voila) (0.4)\n",
      "Requirement already satisfied: requests in c:\\users\\sange\\anaconda3\\lib\\site-packages (from jupyterlab-server<3,>=2.3.0->voila) (2.27.1)\n",
      "Requirement already satisfied: json5 in c:\\users\\sange\\anaconda3\\lib\\site-packages (from jupyterlab-server<3,>=2.3.0->voila) (0.9.6)\n",
      "Requirement already satisfied: babel in c:\\users\\sange\\anaconda3\\lib\\site-packages (from jupyterlab-server<3,>=2.3.0->voila) (2.9.1)\n",
      "Requirement already satisfied: jsonschema>=3.0.1 in c:\\users\\sange\\anaconda3\\lib\\site-packages (from jupyterlab-server<3,>=2.3.0->voila) (4.4.0)\n",
      "Requirement already satisfied: MarkupSafe>=0.23 in c:\\users\\sange\\anaconda3\\lib\\site-packages (from jinja2->jupyter-server<2.0.0,>=1.18->voila) (2.0.1)\n",
      "Requirement already satisfied: pyrsistent!=0.17.0,!=0.17.1,!=0.17.2,>=0.14.0 in c:\\users\\sange\\anaconda3\\lib\\site-packages (from jsonschema>=3.0.1->jupyterlab-server<3,>=2.3.0->voila) (0.18.0)\n",
      "Requirement already satisfied: attrs>=17.4.0 in c:\\users\\sange\\anaconda3\\lib\\site-packages (from jsonschema>=3.0.1->jupyterlab-server<3,>=2.3.0->voila) (21.4.0)\n",
      "Requirement already satisfied: nest-asyncio in c:\\users\\sange\\anaconda3\\lib\\site-packages (from nbclient<0.8,>=0.4.0->voila) (1.5.5)\n",
      "Collecting tinycss2\n",
      "  Downloading tinycss2-1.2.1-py3-none-any.whl (21 kB)\n",
      "Requirement already satisfied: importlib-metadata>=3.6 in c:\\users\\sange\\anaconda3\\lib\\site-packages (from nbconvert<8,>=6.4.5->voila) (4.11.3)\n",
      "Requirement already satisfied: jupyterlab-pygments in c:\\users\\sange\\anaconda3\\lib\\site-packages (from nbconvert<8,>=6.4.5->voila) (0.1.2)\n",
      "Requirement already satisfied: beautifulsoup4 in c:\\users\\sange\\anaconda3\\lib\\site-packages (from nbconvert<8,>=6.4.5->voila) (4.11.1)\n",
      "Collecting mistune<3,>=2.0.3\n",
      "  Using cached mistune-2.0.4-py2.py3-none-any.whl (24 kB)\n",
      "Requirement already satisfied: bleach in c:\\users\\sange\\anaconda3\\lib\\site-packages (from nbconvert<8,>=6.4.5->voila) (4.1.0)\n",
      "Requirement already satisfied: pygments>=2.4.1 in c:\\users\\sange\\anaconda3\\lib\\site-packages (from nbconvert<8,>=6.4.5->voila) (2.11.2)\n",
      "Requirement already satisfied: defusedxml in c:\\users\\sange\\anaconda3\\lib\\site-packages (from nbconvert<8,>=6.4.5->voila) (0.7.1)\n",
      "Requirement already satisfied: pandocfilters>=1.4.1 in c:\\users\\sange\\anaconda3\\lib\\site-packages (from nbconvert<8,>=6.4.5->voila) (1.5.0)\n",
      "Collecting jinja2\n",
      "  Using cached Jinja2-3.1.2-py3-none-any.whl (133 kB)\n",
      "Requirement already satisfied: zipp>=0.5 in c:\\users\\sange\\anaconda3\\lib\\site-packages (from importlib-metadata>=3.6->nbconvert<8,>=6.4.5->voila) (3.7.0)\n",
      "Requirement already satisfied: fastjsonschema in c:\\users\\sange\\anaconda3\\lib\\site-packages (from nbformat>=5.2.0->jupyter-server<2.0.0,>=1.18->voila) (2.15.1)\n",
      "Requirement already satisfied: six>=1.5 in c:\\users\\sange\\anaconda3\\lib\\site-packages (from python-dateutil>=2.1->jupyter-client<=7.4.1,>=6.1.3->voila) (1.16.0)\n",
      "Requirement already satisfied: argon2-cffi-bindings in c:\\users\\sange\\anaconda3\\lib\\site-packages (from argon2-cffi->jupyter-server<2.0.0,>=1.18->voila) (21.2.0)\n",
      "Requirement already satisfied: cffi>=1.0.1 in c:\\users\\sange\\anaconda3\\lib\\site-packages (from argon2-cffi-bindings->argon2-cffi->jupyter-server<2.0.0,>=1.18->voila) (1.15.0)\n",
      "Requirement already satisfied: pycparser in c:\\users\\sange\\anaconda3\\lib\\site-packages (from cffi>=1.0.1->argon2-cffi-bindings->argon2-cffi->jupyter-server<2.0.0,>=1.18->voila) (2.21)\n",
      "Requirement already satisfied: pytz>=2015.7 in c:\\users\\sange\\anaconda3\\lib\\site-packages (from babel->jupyterlab-server<3,>=2.3.0->voila) (2021.3)\n",
      "Requirement already satisfied: soupsieve>1.2 in c:\\users\\sange\\anaconda3\\lib\\site-packages (from beautifulsoup4->nbconvert<8,>=6.4.5->voila) (2.3.1)\n",
      "Requirement already satisfied: webencodings in c:\\users\\sange\\anaconda3\\lib\\site-packages (from bleach->nbconvert<8,>=6.4.5->voila) (0.5.1)\n",
      "Requirement already satisfied: pyparsing!=3.0.5,>=2.0.2 in c:\\users\\sange\\anaconda3\\lib\\site-packages (from packaging->jupyter-server<2.0.0,>=1.18->voila) (3.0.4)\n",
      "Requirement already satisfied: certifi>=2017.4.17 in c:\\users\\sange\\anaconda3\\lib\\site-packages (from requests->jupyterlab-server<3,>=2.3.0->voila) (2021.10.8)\n",
      "Requirement already satisfied: charset-normalizer~=2.0.0 in c:\\users\\sange\\anaconda3\\lib\\site-packages (from requests->jupyterlab-server<3,>=2.3.0->voila) (2.0.4)\n",
      "Requirement already satisfied: urllib3<1.27,>=1.21.1 in c:\\users\\sange\\anaconda3\\lib\\site-packages (from requests->jupyterlab-server<3,>=2.3.0->voila) (1.26.9)\n",
      "Installing collected packages: jupyter-core, tinycss2, mistune, jinja2, nbconvert, jupyter-server, websockets, voila\n",
      "  Attempting uninstall: jupyter-core\n",
      "    Found existing installation: jupyter-core 4.9.2\n",
      "    Uninstalling jupyter-core-4.9.2:\n",
      "      Successfully uninstalled jupyter-core-4.9.2\n"
     ]
    },
    {
     "name": "stderr",
     "output_type": "stream",
     "text": [
      "Enabling: voila\n",
      "- Writing config: C:\\Users\\sange\\anaconda3\\etc\\jupyter\n",
      "    - Validating...\n",
      "Error loading server extension voila\n",
      "      X is voila importable?\n"
     ]
    }
   ],
   "source": [
    "!pip install voila\n",
    "!jupyter serverextension enable --sys-prefix voila"
   ]
  },
  {
   "cell_type": "code",
   "execution_count": null,
   "metadata": {
    "id": "r4VmwAwcV6ZW"
   },
   "outputs": [],
   "source": []
  }
 ],
 "metadata": {
  "colab": {
   "provenance": []
  },
  "kernelspec": {
   "display_name": "Python 3 (ipykernel)",
   "language": "python",
   "name": "python3"
  },
  "language_info": {
   "codemirror_mode": {
    "name": "ipython",
    "version": 3
   },
   "file_extension": ".py",
   "mimetype": "text/x-python",
   "name": "python",
   "nbconvert_exporter": "python",
   "pygments_lexer": "ipython3",
   "version": "3.9.12"
  },
  "widgets": {
   "application/vnd.jupyter.widget-state+json": {
    "0258cb4840e343419ef61f52a196bee3": {
     "model_module": "@jupyter-widgets/output",
     "model_module_version": "1.0.0",
     "model_name": "OutputModel",
     "state": {
      "_dom_classes": [],
      "_model_module": "@jupyter-widgets/output",
      "_model_module_version": "1.0.0",
      "_model_name": "OutputModel",
      "_view_count": null,
      "_view_module": "@jupyter-widgets/output",
      "_view_module_version": "1.0.0",
      "_view_name": "OutputView",
      "layout": "IPY_MODEL_1b59011ef9e04e0380050240c031d6ca",
      "msg_id": "",
      "outputs": [
       {
        "data": {
         "image/png": "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\n",
         "text/plain": "<PIL.Image.Image image mode=RGB size=190x107>"
        },
        "metadata": {},
        "output_type": "display_data"
       }
      ]
     }
    },
    "12188c29931642348db9625ab02f377a": {
     "model_module": "@jupyter-widgets/base",
     "model_module_version": "1.2.0",
     "model_name": "LayoutModel",
     "state": {
      "_model_module": "@jupyter-widgets/base",
      "_model_module_version": "1.2.0",
      "_model_name": "LayoutModel",
      "_view_count": null,
      "_view_module": "@jupyter-widgets/base",
      "_view_module_version": "1.2.0",
      "_view_name": "LayoutView",
      "align_content": null,
      "align_items": null,
      "align_self": null,
      "border": null,
      "bottom": null,
      "display": null,
      "flex": null,
      "flex_flow": null,
      "grid_area": null,
      "grid_auto_columns": null,
      "grid_auto_flow": null,
      "grid_auto_rows": null,
      "grid_column": null,
      "grid_gap": null,
      "grid_row": null,
      "grid_template_areas": null,
      "grid_template_columns": null,
      "grid_template_rows": null,
      "height": null,
      "justify_content": null,
      "justify_items": null,
      "left": null,
      "margin": null,
      "max_height": null,
      "max_width": null,
      "min_height": null,
      "min_width": null,
      "object_fit": null,
      "object_position": null,
      "order": null,
      "overflow": null,
      "overflow_x": null,
      "overflow_y": null,
      "padding": null,
      "right": null,
      "top": null,
      "visibility": null,
      "width": null
     }
    },
    "164ff5ac7e104355bfa12177edc95205": {
     "model_module": "@jupyter-widgets/base",
     "model_module_version": "1.2.0",
     "model_name": "LayoutModel",
     "state": {
      "_model_module": "@jupyter-widgets/base",
      "_model_module_version": "1.2.0",
      "_model_name": "LayoutModel",
      "_view_count": null,
      "_view_module": "@jupyter-widgets/base",
      "_view_module_version": "1.2.0",
      "_view_name": "LayoutView",
      "align_content": null,
      "align_items": null,
      "align_self": null,
      "border": null,
      "bottom": null,
      "display": null,
      "flex": null,
      "flex_flow": null,
      "grid_area": null,
      "grid_auto_columns": null,
      "grid_auto_flow": null,
      "grid_auto_rows": null,
      "grid_column": null,
      "grid_gap": null,
      "grid_row": null,
      "grid_template_areas": null,
      "grid_template_columns": null,
      "grid_template_rows": null,
      "height": null,
      "justify_content": null,
      "justify_items": null,
      "left": null,
      "margin": null,
      "max_height": null,
      "max_width": null,
      "min_height": null,
      "min_width": null,
      "object_fit": null,
      "object_position": null,
      "order": null,
      "overflow": null,
      "overflow_x": null,
      "overflow_y": null,
      "padding": null,
      "right": null,
      "top": null,
      "visibility": null,
      "width": null
     }
    },
    "1b59011ef9e04e0380050240c031d6ca": {
     "model_module": "@jupyter-widgets/base",
     "model_module_version": "1.2.0",
     "model_name": "LayoutModel",
     "state": {
      "_model_module": "@jupyter-widgets/base",
      "_model_module_version": "1.2.0",
      "_model_name": "LayoutModel",
      "_view_count": null,
      "_view_module": "@jupyter-widgets/base",
      "_view_module_version": "1.2.0",
      "_view_name": "LayoutView",
      "align_content": null,
      "align_items": null,
      "align_self": null,
      "border": null,
      "bottom": null,
      "display": null,
      "flex": null,
      "flex_flow": null,
      "grid_area": null,
      "grid_auto_columns": null,
      "grid_auto_flow": null,
      "grid_auto_rows": null,
      "grid_column": null,
      "grid_gap": null,
      "grid_row": null,
      "grid_template_areas": null,
      "grid_template_columns": null,
      "grid_template_rows": null,
      "height": null,
      "justify_content": null,
      "justify_items": null,
      "left": null,
      "margin": null,
      "max_height": null,
      "max_width": null,
      "min_height": null,
      "min_width": null,
      "object_fit": null,
      "object_position": null,
      "order": null,
      "overflow": null,
      "overflow_x": null,
      "overflow_y": null,
      "padding": null,
      "right": null,
      "top": null,
      "visibility": null,
      "width": null
     }
    },
    "254891b34e7a4ab6a3529fc00cd5afc6": {
     "model_module": "@jupyter-widgets/base",
     "model_module_version": "1.2.0",
     "model_name": "LayoutModel",
     "state": {
      "_model_module": "@jupyter-widgets/base",
      "_model_module_version": "1.2.0",
      "_model_name": "LayoutModel",
      "_view_count": null,
      "_view_module": "@jupyter-widgets/base",
      "_view_module_version": "1.2.0",
      "_view_name": "LayoutView",
      "align_content": null,
      "align_items": null,
      "align_self": null,
      "border": null,
      "bottom": null,
      "display": null,
      "flex": null,
      "flex_flow": null,
      "grid_area": null,
      "grid_auto_columns": null,
      "grid_auto_flow": null,
      "grid_auto_rows": null,
      "grid_column": null,
      "grid_gap": null,
      "grid_row": null,
      "grid_template_areas": null,
      "grid_template_columns": null,
      "grid_template_rows": null,
      "height": null,
      "justify_content": null,
      "justify_items": null,
      "left": null,
      "margin": null,
      "max_height": null,
      "max_width": null,
      "min_height": null,
      "min_width": null,
      "object_fit": null,
      "object_position": null,
      "order": null,
      "overflow": null,
      "overflow_x": null,
      "overflow_y": null,
      "padding": null,
      "right": null,
      "top": null,
      "visibility": null,
      "width": null
     }
    },
    "54ff584617a24605b50ab8a929b41602": {
     "model_module": "@jupyter-widgets/controls",
     "model_module_version": "1.5.0",
     "model_name": "ButtonModel",
     "state": {
      "_dom_classes": [],
      "_model_module": "@jupyter-widgets/controls",
      "_model_module_version": "1.5.0",
      "_model_name": "ButtonModel",
      "_view_count": null,
      "_view_module": "@jupyter-widgets/controls",
      "_view_module_version": "1.5.0",
      "_view_name": "ButtonView",
      "button_style": "",
      "description": "Classify",
      "disabled": false,
      "icon": "",
      "layout": "IPY_MODEL_12188c29931642348db9625ab02f377a",
      "style": "IPY_MODEL_a4bcf4662ded41f08ec90c003d89410f",
      "tooltip": ""
     }
    },
    "60d01a5626764450b90591a515b8d5fc": {
     "model_module": "@jupyter-widgets/base",
     "model_module_version": "1.2.0",
     "model_name": "LayoutModel",
     "state": {
      "_model_module": "@jupyter-widgets/base",
      "_model_module_version": "1.2.0",
      "_model_name": "LayoutModel",
      "_view_count": null,
      "_view_module": "@jupyter-widgets/base",
      "_view_module_version": "1.2.0",
      "_view_name": "LayoutView",
      "align_content": null,
      "align_items": null,
      "align_self": null,
      "border": null,
      "bottom": null,
      "display": null,
      "flex": null,
      "flex_flow": null,
      "grid_area": null,
      "grid_auto_columns": null,
      "grid_auto_flow": null,
      "grid_auto_rows": null,
      "grid_column": null,
      "grid_gap": null,
      "grid_row": null,
      "grid_template_areas": null,
      "grid_template_columns": null,
      "grid_template_rows": null,
      "height": null,
      "justify_content": null,
      "justify_items": null,
      "left": null,
      "margin": null,
      "max_height": null,
      "max_width": null,
      "min_height": null,
      "min_width": null,
      "object_fit": null,
      "object_position": null,
      "order": null,
      "overflow": null,
      "overflow_x": null,
      "overflow_y": null,
      "padding": null,
      "right": null,
      "top": null,
      "visibility": null,
      "width": null
     }
    },
    "722041d2ffee4cc399d3b05b892ae98b": {
     "model_module": "@jupyter-widgets/controls",
     "model_module_version": "1.5.0",
     "model_name": "DescriptionStyleModel",
     "state": {
      "_model_module": "@jupyter-widgets/controls",
      "_model_module_version": "1.5.0",
      "_model_name": "DescriptionStyleModel",
      "_view_count": null,
      "_view_module": "@jupyter-widgets/base",
      "_view_module_version": "1.2.0",
      "_view_name": "StyleView",
      "description_width": ""
     }
    },
    "7b453b55995d41e69da58a03a05686dd": {
     "model_module": "@jupyter-widgets/base",
     "model_module_version": "1.2.0",
     "model_name": "LayoutModel",
     "state": {
      "_model_module": "@jupyter-widgets/base",
      "_model_module_version": "1.2.0",
      "_model_name": "LayoutModel",
      "_view_count": null,
      "_view_module": "@jupyter-widgets/base",
      "_view_module_version": "1.2.0",
      "_view_name": "LayoutView",
      "align_content": null,
      "align_items": null,
      "align_self": null,
      "border": null,
      "bottom": null,
      "display": null,
      "flex": null,
      "flex_flow": null,
      "grid_area": null,
      "grid_auto_columns": null,
      "grid_auto_flow": null,
      "grid_auto_rows": null,
      "grid_column": null,
      "grid_gap": null,
      "grid_row": null,
      "grid_template_areas": null,
      "grid_template_columns": null,
      "grid_template_rows": null,
      "height": null,
      "justify_content": null,
      "justify_items": null,
      "left": null,
      "margin": null,
      "max_height": null,
      "max_width": null,
      "min_height": null,
      "min_width": null,
      "object_fit": null,
      "object_position": null,
      "order": null,
      "overflow": null,
      "overflow_x": null,
      "overflow_y": null,
      "padding": null,
      "right": null,
      "top": null,
      "visibility": null,
      "width": null
     }
    },
    "90c4ee29aa8c4f558af76f0631118b5d": {
     "model_module": "@jupyter-widgets/controls",
     "model_module_version": "1.5.0",
     "model_name": "FileUploadModel",
     "state": {
      "_counter": 1,
      "_dom_classes": [],
      "_model_module": "@jupyter-widgets/controls",
      "_model_module_version": "1.5.0",
      "_model_name": "FileUploadModel",
      "_view_count": null,
      "_view_module": "@jupyter-widgets/controls",
      "_view_module_version": "1.5.0",
      "_view_name": "FileUploadView",
      "accept": "",
      "button_style": "",
      "data": [
       null
      ],
      "description": "Upload",
      "description_tooltip": null,
      "disabled": false,
      "error": "",
      "icon": "upload",
      "layout": "IPY_MODEL_60d01a5626764450b90591a515b8d5fc",
      "metadata": [
       {
        "lastModified": 1667303903012,
        "name": "13587d16-a82c-48e4-a5bf-8e009318f8c5.jpg",
        "size": 27289,
        "type": "image/jpeg"
       }
      ],
      "multiple": false,
      "style": "IPY_MODEL_dc9a15205b5043dba391eac64c09ea6c"
     }
    },
    "a4bcf4662ded41f08ec90c003d89410f": {
     "model_module": "@jupyter-widgets/controls",
     "model_module_version": "1.5.0",
     "model_name": "ButtonStyleModel",
     "state": {
      "_model_module": "@jupyter-widgets/controls",
      "_model_module_version": "1.5.0",
      "_model_name": "ButtonStyleModel",
      "_view_count": null,
      "_view_module": "@jupyter-widgets/base",
      "_view_module_version": "1.2.0",
      "_view_name": "StyleView",
      "button_color": null,
      "font_weight": ""
     }
    },
    "d3397d1ace7647788a54fd67e1bf2522": {
     "model_module": "@jupyter-widgets/controls",
     "model_module_version": "1.5.0",
     "model_name": "VBoxModel",
     "state": {
      "_dom_classes": [],
      "_model_module": "@jupyter-widgets/controls",
      "_model_module_version": "1.5.0",
      "_model_name": "VBoxModel",
      "_view_count": null,
      "_view_module": "@jupyter-widgets/controls",
      "_view_module_version": "1.5.0",
      "_view_name": "VBoxView",
      "box_style": "",
      "children": [
       "IPY_MODEL_f72ce1b902aa4e7dbf0e63e4a4586249",
       "IPY_MODEL_90c4ee29aa8c4f558af76f0631118b5d",
       "IPY_MODEL_54ff584617a24605b50ab8a929b41602",
       "IPY_MODEL_0258cb4840e343419ef61f52a196bee3",
       "IPY_MODEL_f02f07653d0c4cc6864feea518f16f9e"
      ],
      "layout": "IPY_MODEL_7b453b55995d41e69da58a03a05686dd"
     }
    },
    "d4ca0d4e49f64c0893b72b4fc6dc6089": {
     "model_module": "@jupyter-widgets/controls",
     "model_module_version": "1.5.0",
     "model_name": "DescriptionStyleModel",
     "state": {
      "_model_module": "@jupyter-widgets/controls",
      "_model_module_version": "1.5.0",
      "_model_name": "DescriptionStyleModel",
      "_view_count": null,
      "_view_module": "@jupyter-widgets/base",
      "_view_module_version": "1.2.0",
      "_view_name": "StyleView",
      "description_width": ""
     }
    },
    "dc9a15205b5043dba391eac64c09ea6c": {
     "model_module": "@jupyter-widgets/controls",
     "model_module_version": "1.5.0",
     "model_name": "ButtonStyleModel",
     "state": {
      "_model_module": "@jupyter-widgets/controls",
      "_model_module_version": "1.5.0",
      "_model_name": "ButtonStyleModel",
      "_view_count": null,
      "_view_module": "@jupyter-widgets/base",
      "_view_module_version": "1.2.0",
      "_view_name": "StyleView",
      "button_color": null,
      "font_weight": ""
     }
    },
    "f02f07653d0c4cc6864feea518f16f9e": {
     "model_module": "@jupyter-widgets/controls",
     "model_module_version": "1.5.0",
     "model_name": "LabelModel",
     "state": {
      "_dom_classes": [],
      "_model_module": "@jupyter-widgets/controls",
      "_model_module_version": "1.5.0",
      "_model_name": "LabelModel",
      "_view_count": null,
      "_view_module": "@jupyter-widgets/controls",
      "_view_module_version": "1.5.0",
      "_view_name": "LabelView",
      "description": "",
      "description_tooltip": null,
      "layout": "IPY_MODEL_254891b34e7a4ab6a3529fc00cd5afc6",
      "placeholder": "​",
      "style": "IPY_MODEL_d4ca0d4e49f64c0893b72b4fc6dc6089",
      "value": "Bear Type: black Probability: 0.99909"
     }
    },
    "f72ce1b902aa4e7dbf0e63e4a4586249": {
     "model_module": "@jupyter-widgets/controls",
     "model_module_version": "1.5.0",
     "model_name": "LabelModel",
     "state": {
      "_dom_classes": [],
      "_model_module": "@jupyter-widgets/controls",
      "_model_module_version": "1.5.0",
      "_model_name": "LabelModel",
      "_view_count": null,
      "_view_module": "@jupyter-widgets/controls",
      "_view_module_version": "1.5.0",
      "_view_name": "LabelView",
      "description": "",
      "description_tooltip": null,
      "layout": "IPY_MODEL_164ff5ac7e104355bfa12177edc95205",
      "placeholder": "​",
      "style": "IPY_MODEL_722041d2ffee4cc399d3b05b892ae98b",
      "value": "Upload a bear photo to classify"
     }
    }
   }
  }
 },
 "nbformat": 4,
 "nbformat_minor": 1
}
